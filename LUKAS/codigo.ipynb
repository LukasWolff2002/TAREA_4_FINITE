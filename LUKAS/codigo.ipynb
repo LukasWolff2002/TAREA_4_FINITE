{
 "cells": [
  {
   "cell_type": "code",
   "execution_count": 1,
   "id": "c1bf5f9e",
   "metadata": {},
   "outputs": [],
   "source": [
    "def modificar_geo(archivo_entrada, archivo_salida, nuevo_n, nuevo_r):\n",
    "    with open(archivo_entrada, \"r\") as f:\n",
    "        lineas = f.readlines()\n",
    "\n",
    "    nuevas_lineas = []\n",
    "    for linea in lineas:\n",
    "        if linea.strip().startswith(\"n =\"):\n",
    "            nuevas_lineas.append(f\"n = {nuevo_n};\\n\")\n",
    "        elif linea.strip().startswith(\"r =\"):\n",
    "            nuevas_lineas.append(f\"r = {nuevo_r};\\n\")\n",
    "        elif \"Transfinite Curve{1, 2}\" in linea:\n",
    "            nuevas_lineas.append(f\"Transfinite Curve{{1, 2}} = {nuevo_n} Using Progression {nuevo_r};\\n\")\n",
    "        elif \"Transfinite Curve{4, 3}\" in linea:\n",
    "            nuevas_lineas.append(f\"Transfinite Curve{{4, 3}} = {nuevo_n} Using Progression 1/{nuevo_r};\\n\")\n",
    "        else:\n",
    "            nuevas_lineas.append(linea)\n",
    "\n",
    "    with open(archivo_salida, \"w\") as f:\n",
    "        f.writelines(nuevas_lineas)\n",
    "\n",
    "    print(f\"Archivo guardado como '{archivo_salida}' con n = {nuevo_n} y r = {nuevo_r}\")\n"
   ]
  },
  {
   "cell_type": "code",
   "execution_count": 2,
   "id": "f971f8af",
   "metadata": {},
   "outputs": [
    {
     "name": "stdout",
     "output_type": "stream",
     "text": [
      "Archivo guardado como 'geo.geo' con n = 1 y r = 1\n"
     ]
    }
   ],
   "source": [
    "modificar_geo(\"geo.geo\", \"geo.geo\", nuevo_n=1, nuevo_r=1)"
   ]
  },
  {
   "cell_type": "code",
   "execution_count": null,
   "id": "382cb6a7",
   "metadata": {},
   "outputs": [],
   "source": []
  },
  {
   "cell_type": "code",
   "execution_count": 3,
   "id": "ecc9957a",
   "metadata": {},
   "outputs": [],
   "source": [
    "import gmsh\n",
    "import meshio\n",
    "from nodes import Node\n",
    "from elements import CST\n",
    "import numpy as np\n",
    "import matplotlib.pyplot as plt\n",
    "from matplotlib.tri import Triangulation\n",
    "\n",
    "import gmsh\n",
    "import meshio\n",
    "from nodes import Node\n",
    "from elements import CST\n",
    "\n",
    "def load_mesh_objects(geo_file=\"geo.geo\", msh_file=\"mesh.msh\"):\n",
    "    gmsh.initialize()\n",
    "    gmsh.open(geo_file)\n",
    "    gmsh.model.mesh.generate(2)\n",
    "    gmsh.write(msh_file)\n",
    "    gmsh.finalize()\n",
    "\n",
    "    # Leer malla\n",
    "    mesh = meshio.read(msh_file)\n",
    "\n",
    "    # Crear nodos\n",
    "    nodes = [Node(i+1, x, y) for i, (x, y, _) in enumerate(mesh.points)]\n",
    "\n",
    "    # Crear elementos CST\n",
    "    cst_elements = []\n",
    "    for cell_block in mesh.cells:\n",
    "        if cell_block.type == \"triangle\":\n",
    "            for i, node_ids in enumerate(cell_block.data):\n",
    "                node_ids = [int(id) + 1 for id in node_ids]  # Convertir a índices base 1\n",
    "                \n",
    "                cst_elements.append(CST(i+1 , list(node_ids)))\n",
    "            break\n",
    "\n",
    "    # Detectar nodos en líneas físicas (\"Diritchlet 1\" a \"Diritchlet 4\")\n",
    "    boundary_nodes = {1: set(), 2: set(), 3: set(), 4: set()}\n",
    "\n",
    "    for i, cell_block in enumerate(mesh.cells):\n",
    "        if cell_block.type == \"line\":\n",
    "            physical_ids = mesh.cell_data_dict['gmsh:physical']['line']\n",
    "            for line, phys_id in zip(cell_block.data, physical_ids):\n",
    "                if phys_id in boundary_nodes:\n",
    "                    for node_id in line:\n",
    "                        boundary_nodes[phys_id].add(int(node_id))\n",
    "\n",
    "    # Añadir etiquetas de borde a los nodos\n",
    "    for node in nodes:\n",
    "        node.boundary_label = []\n",
    "        for label_id, node_set in boundary_nodes.items():\n",
    "            if node.id in node_set:\n",
    "                node.boundary_label.append(f\"Diritchlet Boundary\")\n",
    "\n",
    "    return nodes, cst_elements\n",
    "\n",
    "\n",
    "def plot_mesh(nodes, elements, show_node_ids=False, show_elem_ids=False):\n",
    "    x = np.array([node.x for node in nodes])\n",
    "    y = np.array([node.y for node in nodes])\n",
    "\n",
    "    # Convertir elementos CST a array de conectividades\n",
    "    triangles = np.array([[nid - 1 for nid in elem.node_ids] for elem in elements])\n",
    "\n",
    "\n",
    "    fig, ax = plt.subplots(figsize=(8, 8))\n",
    "    ax.set_aspect('equal')\n",
    "\n",
    "    triang = Triangulation(x, y, triangles)\n",
    "    ax.triplot(triang, color='gray', linewidth=0.8)\n",
    "\n",
    "    if show_node_ids:\n",
    "        for node in nodes:\n",
    "            ax.text(node.x, node.y, str(node.id), color='blue', fontsize=8, ha='center', va='center')\n",
    "\n",
    "    if show_elem_ids:\n",
    "        for elem in elements:\n",
    "            coords = np.array([[nodes[j - 1].x, nodes[j - 1].y] for j in elem.node_ids])\n",
    "\n",
    "            centroid = coords.mean(axis=0)\n",
    "            ax.text(*centroid, str(elem.id), color='red', fontsize=8, ha='center')\n",
    "\n",
    "    ax.set_title(\"Malla de elementos triangulares (CST)\")\n",
    "    ax.set_xlabel(\"X\")\n",
    "    ax.set_ylabel(\"Y\")\n",
    "    plt.tight_layout()\n",
    "    plt.show()\n"
   ]
  },
  {
   "cell_type": "code",
   "execution_count": 4,
   "id": "d9e34eb4",
   "metadata": {},
   "outputs": [
    {
     "name": "stdout",
     "output_type": "stream",
     "text": [
      "Info    : Reading 'geo.geo'...\n",
      "Info    : Done reading 'geo.geo'\n",
      "Info    : Meshing 1D...\n",
      "Info    : [  0%] Meshing curve 1 (Line)\n",
      "Info    : [ 30%] Meshing curve 2 (Line)\n",
      "Info    : [ 60%] Meshing curve 3 (Line)\n",
      "Info    : [ 80%] Meshing curve 4 (Line)\n",
      "Info    : Done meshing 1D (Wall 0.000121833s, CPU 0.000152s)\n",
      "Info    : Meshing 2D...\n",
      "Info    : Meshing surface 1 (Transfinite)\n",
      "Info    : Done meshing 2D (Wall 3.21249e-05s, CPU 3.2e-05s)\n",
      "Info    : 4 nodes 10 elements\n",
      "Info    : Writing 'mesh.msh'...\n",
      "Info    : Done writing 'mesh.msh'\n",
      "\n"
     ]
    }
   ],
   "source": [
    "nodes, elements = load_mesh_objects(\"geo.geo\", \"mesh.msh\")\n",
    "#lot_mesh(nodes, elements, show_node_ids=True, show_elem_ids=True)\n"
   ]
  },
  {
   "cell_type": "code",
   "execution_count": 5,
   "id": "9ef98ed6",
   "metadata": {},
   "outputs": [],
   "source": [
    "#Ahora debo calcular la solucion u\n",
    "alpha = 0.5\n",
    "\n",
    "for node in nodes:\n",
    "    node.solve_u(alpha)"
   ]
  },
  {
   "cell_type": "code",
   "execution_count": 6,
   "id": "9f738efc",
   "metadata": {},
   "outputs": [],
   "source": [
    "from mpl_toolkits.mplot3d import Axes3D\n",
    "import matplotlib.pyplot as plt\n",
    "import numpy as np\n",
    "from matplotlib.tri import Triangulation\n",
    "\n",
    "def plot_u_surface_from_elements(nodes, elements, use_attr=\"u\"):\n",
    "    \"\"\"\n",
    "    Grafica una superficie 3D de u(x,y) usando la conectividad real de los elementos CST (base 1).\n",
    "    \"\"\"\n",
    "    # Coordenadas de nodos\n",
    "    x = np.array([node.x for node in nodes])\n",
    "    y = np.array([node.y for node in nodes])\n",
    "    z = np.array([getattr(node, use_attr) for node in nodes])  # puede ser node.u o node.u_fem\n",
    "\n",
    "    # ⚠️ Convertir de base 1 → base 0\n",
    "    triangles = np.array([[nid - 1 for nid in elem.node_ids] for elem in elements])\n",
    "\n",
    "    fig = plt.figure(figsize=(10, 7))\n",
    "    ax = fig.add_subplot(111, projection='3d')\n",
    "\n",
    "    tri = Triangulation(x, y, triangles)\n",
    "    surf = ax.plot_trisurf(tri, z, cmap='viridis', edgecolor='k', linewidth=0.2)\n",
    "\n",
    "    ax.set_xlabel(\"X\")\n",
    "    ax.set_ylabel(\"Y\")\n",
    "    ax.set_zlabel(use_attr)\n",
    "    ax.set_title(f\"Superficie {use_attr}(x, y)\")\n",
    "\n",
    "    fig.colorbar(surf, ax=ax, shrink=0.5, aspect=10, label=use_attr)\n",
    "    plt.tight_layout()\n",
    "    plt.show()\n",
    "\n",
    "#plot_u_surface_from_elements(nodes, elements, use_attr=\"u\")       # solución exacta\n",
    "\n"
   ]
  },
  {
   "cell_type": "code",
   "execution_count": 7,
   "id": "8387d6fd",
   "metadata": {},
   "outputs": [],
   "source": [
    "#Bien, ahora es nesesario ensamblar la stifnes matrix de cada elemento CST\n",
    "from solve import Solve\n",
    "\n",
    "Estructure = Solve(nodes, elements, alpha)\n",
    "\n"
   ]
  },
  {
   "cell_type": "code",
   "execution_count": 8,
   "id": "ce3a8e7b",
   "metadata": {},
   "outputs": [],
   "source": [
    "#Bien, ahora es nesesario calcular la solucion,\n",
    "#Conozco todos lo que esta en la frontera diritchlet\n",
    "Estructure.solve_matrix()\n",
    "#plot_u_surface_from_elements(nodes, elements, use_attr=\"u_fem\")  # solución FEM\n",
    "\n"
   ]
  },
  {
   "cell_type": "code",
   "execution_count": 9,
   "id": "7ca29950",
   "metadata": {},
   "outputs": [],
   "source": [
    "import numpy as np\n",
    "import matplotlib.pyplot as plt\n",
    "from matplotlib.tri import Triangulation\n",
    "\n",
    "def plot_relative_error_surface_3d(nodes, elements):\n",
    "    \"\"\"\n",
    "    Grafica una superficie 3D (no interactiva) del error relativo entre u FEM y u exacto.\n",
    "    \"\"\"\n",
    "    x = np.array([node.x for node in nodes])\n",
    "    y = np.array([node.y for node in nodes])\n",
    "    u_num = np.array([node.u_fem for node in nodes])\n",
    "    u_ref = np.array([node.u for node in nodes])\n",
    "\n",
    "    eps = 1e-14\n",
    "    error_rel = np.abs(u_num - u_ref) / (np.abs(u_ref) + eps)\n",
    "\n",
    "    # Usar conectividad real (base 1 → base 0)\n",
    "    triangles = np.array([[nid - 1 for nid in elem.node_ids] for elem in elements])\n",
    "    triang = Triangulation(x, y, triangles)\n",
    "\n",
    "    fig = plt.figure(figsize=(10, 7))\n",
    "    ax = fig.add_subplot(111, projection='3d')\n",
    "\n",
    "    surf = ax.plot_trisurf(triang, error_rel, cmap='plasma', edgecolor='k', linewidth=0.2)\n",
    "\n",
    "    ax.set_xlabel('x')\n",
    "    ax.set_ylabel('y')\n",
    "    ax.set_zlabel('Error relativo')\n",
    "    ax.set_title('Error relativo nodal entre u FEM y u exacto')\n",
    "\n",
    "    fig.colorbar(surf, ax=ax, shrink=0.5, aspect=10)\n",
    "    plt.tight_layout()\n",
    "    plt.show()\n",
    "\n",
    "    # Imprimir resumen numérico\n",
    "    print(f\"Máximo error relativo: {np.max(error_rel):.2e}\")\n",
    "    print(f\"Promedio error relativo: {np.mean(error_rel):.2e}\")\n",
    "    print(f\"Mínimo error relativo: {np.min(error_rel):.2e}\")\n"
   ]
  },
  {
   "cell_type": "code",
   "execution_count": 10,
   "id": "c3e8f6bf",
   "metadata": {},
   "outputs": [],
   "source": [
    "#plot_relative_error_surface_3d(nodes, elements)\n"
   ]
  },
  {
   "cell_type": "code",
   "execution_count": 11,
   "id": "ce5e2ef7",
   "metadata": {},
   "outputs": [
    {
     "name": "stdout",
     "output_type": "stream",
     "text": [
      "Resultado de |u|^2_{H^1_0(Ω)}: 0.4369\n"
     ]
    }
   ],
   "source": [
    "import numpy as np\n",
    "\n",
    "def semi_norm_H1_0(alpha, orden=5):\n",
    "    \"\"\"\n",
    "    Calcula |u|^2_{H^1_0(Ω)} = ∫_Ω |∇u(x,y)|² dxdy, donde u = (x² + y²)^{α/2},\n",
    "    y Ω = [0,1] × [0,1] usando cuadratura de Gauss-Legendre.\n",
    "    \"\"\"\n",
    "    puntos, pesos = np.polynomial.legendre.leggauss(orden)\n",
    "    puntos = 0.5 * (puntos + 1)\n",
    "    pesos = 0.5 * pesos\n",
    "\n",
    "    total = 0.0\n",
    "\n",
    "    for i in range(orden):\n",
    "        for j in range(orden):\n",
    "            x = puntos[i]\n",
    "            y = puntos[j]\n",
    "            w = pesos[i] * pesos[j]\n",
    "\n",
    "            r2 = x**2 + y**2\n",
    "            if r2 == 0 and alpha < 1:\n",
    "                grad2 = 0.0  # evitar singularidad\n",
    "            else:\n",
    "                grad2 = alpha**2 * r2**(alpha - 1)\n",
    "\n",
    "            total += grad2 * w\n",
    "\n",
    "    return total  # ya es la semi-norma al cuadrado\n",
    "\n",
    "\n",
    "result = semi_norm_H1_0(alpha, orden=5)\n",
    "print(f\"Resultado de |u|^2_{{H^1_0(Ω)}}: {result:.4f}\")\n"
   ]
  },
  {
   "cell_type": "code",
   "execution_count": 12,
   "id": "4e05fe01",
   "metadata": {},
   "outputs": [
    {
     "name": "stdout",
     "output_type": "stream",
     "text": [
      "Solución FEM (xᵀ K x): 0.8715\n"
     ]
    }
   ],
   "source": [
    "from scipy.sparse import csr_matrix\n",
    "\n",
    "fem_solution = Estructure.femm_solution()\n",
    "print(f\"Solución FEM (xᵀ K x): {fem_solution:.4f}\")"
   ]
  }
 ],
 "metadata": {
  "kernelspec": {
   "display_name": "Python 3",
   "language": "python",
   "name": "python3"
  },
  "language_info": {
   "codemirror_mode": {
    "name": "ipython",
    "version": 3
   },
   "file_extension": ".py",
   "mimetype": "text/x-python",
   "name": "python",
   "nbconvert_exporter": "python",
   "pygments_lexer": "ipython3",
   "version": "3.12.5"
  }
 },
 "nbformat": 4,
 "nbformat_minor": 5
}
